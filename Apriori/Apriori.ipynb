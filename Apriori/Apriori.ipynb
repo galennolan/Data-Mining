{
  "cells": [
    {
      "cell_type": "markdown",
      "metadata": {},
      "source": []
    },
    {
      "cell_type": "code",
      "execution_count": 10,
      "metadata": {
        "colab": {
          "base_uri": "https://localhost:8080/"
        },
        "id": "H4R6EDa-p1_R",
        "outputId": "8ba34185-8916-469e-be5c-a836879c5d4b"
      },
      "outputs": [
        {
          "name": "stdout",
          "output_type": "stream",
          "text": [
            "Requirement already satisfied: apyori in c:\\users\\galih setiawan\\appdata\\local\\programs\\python\\python311\\lib\\site-packages (1.1.2)Note: you may need to restart the kernel to use updated packages.\n",
            "\n"
          ]
        },
        {
          "name": "stderr",
          "output_type": "stream",
          "text": [
            "\n",
            "[notice] A new release of pip available: 22.3.1 -> 24.0\n",
            "[notice] To update, run: python.exe -m pip install --upgrade pip\n"
          ]
        }
      ],
      "source": [
        "pip install apyori;"
      ]
    },
    {
      "cell_type": "markdown",
      "metadata": {},
      "source": [
        "Pernyataan `import` ini mengimpor semua paket yang diperlukan untuk analisis asosiasi. `pandas` digunakan untuk manipulasi data, `numpy` untuk operasi matematika, `apyori` untuk menerapkan algoritma Apriori, dan `apriori` dan `association_rules` dari `mlxtend.frequent_patterns` untuk analisis aturan asosiasi.\n"
      ]
    },
    {
      "cell_type": "code",
      "execution_count": 2,
      "metadata": {
        "colab": {
          "base_uri": "https://localhost:8080/"
        },
        "id": "AQTe-AlMp-ix",
        "outputId": "361fdf88-860a-4dae-8c02-2d10a1a762a9"
      },
      "outputs": [],
      "source": [
        "#import all required packages..\n",
        "import pandas as pd\n",
        "import numpy as np\n",
        "from apyori import apriori\n",
        "from mlxtend.frequent_patterns import apriori, association_rules"
      ]
    },
    {
      "cell_type": "code",
      "execution_count": 17,
      "metadata": {
        "colab": {
          "base_uri": "https://localhost:8080/"
        },
        "id": "AwDCNQN7qHiv",
        "outputId": "815bb070-d1ef-4a01-b7a1-24b041314258"
      },
      "outputs": [
        {
          "name": "stdout",
          "output_type": "stream",
          "text": [
            "            Kode Transaksi            Timestamp         Kode Barang  \\\n",
            "0     48522020230102085555   2023-01-02 8:55:55    btraiqltbntdnger   \n",
            "1     48522020230102093055   2023-01-02 9:30:55               026m3   \n",
            "2     48522020230102093215   2023-01-02 9:32:15          O26m3part2   \n",
            "3     48522020230102093230   2023-01-02 9:32:30               026m3   \n",
            "4     48522020230102093340   2023-01-02 9:33:40          Btgkca10cm   \n",
            "...                    ...                  ...                 ...   \n",
            "5598  48522020231230142356  2023-12-30 14:23:56          krsetlumbL   \n",
            "5599  48522020231230142455  2023-12-30 14:24:55         kaki4nomerk   \n",
            "5600  48522020231230144828  2023-12-30 14:48:28       tensionevoice   \n",
            "5601  48522020231230144828  2023-12-30 14:48:28                mic1   \n",
            "5602  48522020231230144845  2023-12-30 14:48:45  freshcarekayuputih   \n",
            "\n",
            "                             Nama Barang  Jumlah  Harga Jual       Total  \n",
            "0               Batrai alat bantu dengar     1.0   39.500,00   39.500,00  \n",
            "1                        Isi oksigen 6m3     2.0  125.000,00  250.000,00  \n",
            "2                Isi tabung O26m3 part 2     1.0  125.000,00  125.000,00  \n",
            "3                        Isi oksigen 6m3     1.0  125.000,00  125.000,00  \n",
            "4     Batang pengaduk spatula kaca 10 cm     2.0    3.000,00    6.000,00  \n",
            "...                                  ...     ...         ...         ...  \n",
            "5598                Korset lumbal size L     1.0  122.000,00  122.000,00  \n",
            "5599              Tongkat kaki 4 no merk     1.0  122.000,00  122.000,00  \n",
            "5600  Tensione digital onemed with voice     1.0  391.000,00  391.000,00  \n",
            "5601                      Micropour 1/2\"     2.0    7.000,00   14.000,00  \n",
            "5602    Freshcare press relax kayu putih     1.0   13.500,00   13.500,00  \n",
            "\n",
            "[5603 rows x 7 columns]\n",
            "              Kode Transaksi            Kode Barang\n",
            "0       48522020230102085555     [btraiqltbntdnger]\n",
            "1       48522020230102093055                [026m3]\n",
            "2       48522020230102093215           [O26m3part2]\n",
            "3       48522020230102093230                [026m3]\n",
            "4       48522020230102093340           [Btgkca10cm]\n",
            "...                      ...                    ...\n",
            "4496    48522020231230142356  [Lumbalm, krsetlumbL]\n",
            "4497    48522020231230142455          [kaki4nomerk]\n",
            "4498    48522020231230144828  [tensionevoice, mic1]\n",
            "4499    48522020231230144845   [freshcarekayuputih]\n",
            "4500  Laporan_485220_2023_09                  [nan]\n",
            "\n",
            "[4501 rows x 2 columns]\n",
            "            Kode Transaksi                          Kode Barang\n",
            "6     48522020230102093537             [Undrpdnmed, mic1, mic2]\n",
            "17    48522020230103081233                  [nec28, O26m3part2]\n",
            "18    48522020230103081320      [O26m3part2, rgltrmedicallotus]\n",
            "31    48522020230104101419                       [O21m3, 026m3]\n",
            "34    48522020230104114727                       [O21m3, 026m3]\n",
            "...                    ...                                  ...\n",
            "4464  48522020231227143702                  [026m3, O26m3part2]\n",
            "4470  48522020231229082043                    [O26m3part2, Co6]\n",
            "4490  48522020231230084805  [needleholderiedstuff, benangjahit]\n",
            "4496  48522020231230142356                [Lumbalm, krsetlumbL]\n",
            "4498  48522020231230144828                [tensionevoice, mic1]\n",
            "\n",
            "[672 rows x 2 columns]\n"
          ]
        }
      ],
      "source": [
        "import pandas as pd\n",
        "\n",
        "# Membaca data dari file CSV\n",
        "data = pd.read_csv('joyoalkes 2023 - Data penjualannya.csv')\n",
        "print(data)\n",
        "# Convert to DataFrame\n",
        "df = pd.DataFrame(data, columns=['Kode Transaksi', 'Kode Barang'])\n",
        "\n",
        "# Normalize the data\n",
        "df_normalized = df.groupby('Kode Transaksi')['Kode Barang'].apply(list).reset_index()\n",
        "\n",
        "# Print the normalized DataFrame\n",
        "print(df_normalized)\n",
        "\n",
        "# Filter df_normalized di mana 'Kode Barang' memiliki lebih dari satu nilai\n",
        "df_multiple_items = df_normalized[df_normalized['Kode Barang'].str.len() > 1]\n",
        "\n",
        "# Tampilkan DataFrame yang telah difilter\n",
        "print(df_multiple_items)\n",
        "\n",
        "\n"
      ]
    },
    {
      "cell_type": "markdown",
      "metadata": {},
      "source": [
        "Pembentukan 1 Item Set\n"
      ]
    },
    {
      "cell_type": "code",
      "execution_count": 3,
      "metadata": {},
      "outputs": [
        {
          "name": "stdout",
          "output_type": "stream",
          "text": [
            "       Kode Barang  Jumlah Kemunculan   Support\n",
            "0       O26m3part2               1332  0.295934\n",
            "1            O21m3                747  0.165963\n",
            "2            026m3                441  0.097978\n",
            "3        snelchart                137  0.030438\n",
            "4            Ar6m3                119  0.026439\n",
            "5           t026m3                 93  0.020662\n",
            "6        alkhol1lt                 89  0.019773\n",
            "7            N26m3                 81  0.017996\n",
            "8              reg                 78  0.017329\n",
            "9           al961L                 67  0.014886\n",
            "10  onehealthcanul                 63  0.013997\n",
            "11            Bola                 63  0.013997\n",
            "12             Co6                 62  0.013775\n",
            "13          t021m3                 59  0.013108\n",
            "14   canulcosmomed                 55  0.012220\n"
          ]
        }
      ],
      "source": [
        "# Pecah list kode barang menjadi baris-baris terpisah\n",
        "df_itemset = df_normalized.explode('Kode Barang')\n",
        "\n",
        "# Hitung jumlah transaksi total\n",
        "total_transactions = df['Kode Transaksi'].nunique()\n",
        "\n",
        "# Hitung jumlah kemunculan setiap kode barang\n",
        "itemset_counts = df_itemset['Kode Barang'].value_counts().reset_index()\n",
        "\n",
        "# Ubah nama kolom\n",
        "itemset_counts.columns = ['Kode Barang', 'Jumlah Kemunculan']\n",
        "\n",
        "# Hitung support\n",
        "itemset_counts['Support'] = itemset_counts['Jumlah Kemunculan'] / total_transactions\n",
        "\n",
        "# Urutkan berdasarkan nilai support dan tampilkan sepuluh teratas\n",
        "top_10_itemsets = itemset_counts.sort_values(by='Support', ascending=False).head(15)\n",
        "\n",
        "print(top_10_itemsets)\n"
      ]
    },
    {
      "cell_type": "code",
      "execution_count": 4,
      "metadata": {},
      "outputs": [
        {
          "name": "stdout",
          "output_type": "stream",
          "text": [
            "          Item 1          Item 2  Jumlah Kemunculan   Support\n",
            "733   O26m3part2           O21m3                 41  0.009109\n",
            "2526      t021m3             reg                 41  0.009109\n",
            "697        O21m3      O26m3part2                 39  0.008665\n",
            "711        O21m3  onehealthcanul                 34  0.007554\n",
            "2540      t026m3             reg                 31  0.006887\n",
            "702        O21m3   canulcosmomed                 25  0.005554\n",
            "688        O21m3           026m3                 16  0.003555\n",
            "6          026m3           O21m3                 13  0.002888\n",
            "143        Ar6m3             Co6                 13  0.002888\n",
            "2532      t021m3              tr                 11  0.002444\n",
            "7          026m3      O26m3part2                 11  0.002444\n",
            "737   O26m3part2  onehealthcanul                  9  0.002000\n",
            "2533      t021m3    trolly1meter                  9  0.002000\n",
            "2349   snelchart          ishara                  8  0.001777\n",
            "694        O21m3          Geacan                  8  0.001777\n"
          ]
        }
      ],
      "source": [
        "#Pembentukan 2 Item SET\n",
        "\n",
        "import itertools\n",
        "\n",
        "# Mendapatkan semua kode barang yang muncul dalam setiap transaksi\n",
        "transactions = df_normalized['Kode Barang'].tolist()\n",
        "\n",
        "# Membuat kombinasi 2-item set dari setiap transaksi\n",
        "itemset_pairs = []\n",
        "for transaction in transactions:\n",
        "    pairs = list(itertools.combinations(transaction, 2))  # Membuat kombinasi pasangan 2-item\n",
        "    itemset_pairs.extend(pairs)  # Menambahkan pasangan 2-item ke daftar itemset_pairs\n",
        "\n",
        "# Membuat DataFrame dari itemset_pairs\n",
        "df_itemset_pairs = pd.DataFrame(itemset_pairs, columns=['Item 1', 'Item 2'])\n",
        "\n",
        "# Menghitung jumlah kemunculan setiap pasangan 2-item\n",
        "pair_counts = df_itemset_pairs.groupby(['Item 1', 'Item 2']).size().reset_index(name='Jumlah Kemunculan')\n",
        "\n",
        "# Menghitung support untuk setiap pasangan 2-item\n",
        "pair_counts['Support'] = pair_counts['Jumlah Kemunculan'] / total_transactions\n",
        "\n",
        "# Mengurutkan berdasarkan nilai support dan menampilkan sepuluh teratas\n",
        "top_10_pairs = pair_counts.sort_values(by='Support', ascending=False).head(15)\n",
        "\n",
        "print(top_10_pairs)\n"
      ]
    },
    {
      "cell_type": "code",
      "execution_count": 7,
      "metadata": {},
      "outputs": [
        {
          "name": "stdout",
          "output_type": "stream",
          "text": [
            "                Item 1             Item 2                Item 3  \\\n",
            "22520           t021m3                reg                    tr   \n",
            "22530           t021m3                 tr                   reg   \n",
            "3655             Bk508               Kom8  needleholderiedstuff   \n",
            "4235             Bk508  iedstuffuphecting  needleholderiedstuff   \n",
            "4213             Bk508    iedstuffpinbeng      1edstuff3scalpel   \n",
            "4527             Bk508     peanluiedstuff      1edstuff3scalpel   \n",
            "3639             Bk508               Kom8      1edstuff3scalpel   \n",
            "6633              Kom8  iedstuffuphecting  needleholderiedstuff   \n",
            "16521  iedstuffpinbeng     peanluiedstuff      1edstuff3scalpel   \n",
            "4539             Bk508     peanluiedstuff  needleholderiedstuff   \n",
            "4224             Bk508    iedstuffpinbeng  needleholderiedstuff   \n",
            "4225             Bk508    iedstuffpinbeng        peanluiedstuff   \n",
            "3724             Bk508   anatomis1edstuff      chirugis1rdstuff   \n",
            "3645             Bk508               Kom8      chirugis1rdstuff   \n",
            "6666              Kom8     peanluiedstuff      1edstuff3scalpel   \n",
            "\n",
            "       Jumlah Kemunculan   Support  \n",
            "22520                  6  0.001333  \n",
            "22530                  5  0.001111  \n",
            "3655                   5  0.001111  \n",
            "4235                   5  0.001111  \n",
            "4213                   5  0.001111  \n",
            "4527                   5  0.001111  \n",
            "3639                   4  0.000889  \n",
            "6633                   4  0.000889  \n",
            "16521                  4  0.000889  \n",
            "4539                   4  0.000889  \n",
            "4224                   4  0.000889  \n",
            "4225                   4  0.000889  \n",
            "3724                   4  0.000889  \n",
            "3645                   4  0.000889  \n",
            "6666                   4  0.000889  \n"
          ]
        }
      ],
      "source": [
        "# Membuat kombinasi 3-item set dari setiap transaksi\n",
        "itemset_triplets = []\n",
        "for transaction in transactions:\n",
        "    triplets = list(itertools.combinations(transaction, 3))  # Membuat kombinasi triplet 3-item\n",
        "    itemset_triplets.extend(triplets)  # Menambahkan triplet 3-item ke daftar itemset_triplets\n",
        "\n",
        "# Membuat DataFrame dari itemset_triplets\n",
        "df_itemset_triplets = pd.DataFrame(itemset_triplets, columns=['Item 1', 'Item 2', 'Item 3'])\n",
        "\n",
        "# Menghitung jumlah kemunculan setiap triplet 3-item\n",
        "triplet_counts = df_itemset_triplets.groupby(['Item 1', 'Item 2', 'Item 3']).size().reset_index(name='Jumlah Kemunculan')\n",
        "\n",
        "# Menghitung support untuk setiap triplet 3-item\n",
        "triplet_counts['Support'] = triplet_counts['Jumlah Kemunculan'] / total_transactions\n",
        "\n",
        "# Mengurutkan berdasarkan nilai support dan menampilkan sepuluh teratas\n",
        "top_10_triplets = triplet_counts.sort_values(by='Support', ascending=False).head(15)\n",
        "\n",
        "print(top_10_triplets)\n"
      ]
    },
    {
      "cell_type": "code",
      "execution_count": 8,
      "metadata": {},
      "outputs": [],
      "source": [
        "from mlxtend.preprocessing import TransactionEncoder\n",
        "from mlxtend.frequent_patterns import apriori, association_rules\n"
      ]
    },
    {
      "cell_type": "markdown",
      "metadata": {
        "id": "wXaga_ZTudE3"
      },
      "source": [
        "\"Dataframe awal df diubah dengan mengambil hanya dua kolom yang relevan, yaitu 'Kode Transaksi' dan 'Nama Barang', sedangkan kolom-kolom lainnya diabaikan. Langkah ini dilakukan untuk mempersiapkan data yang akan digunakan dalam analisis Apriori, di mana hanya informasi tentang transaksi (Kode Transaksi) dan item-item yang dibeli (Nama Barang) yang relevan untuk mengidentifikasi pola pembelian yang mungkin terjadi.\"\n"
      ]
    },
    {
      "cell_type": "code",
      "execution_count": 9,
      "metadata": {},
      "outputs": [
        {
          "name": "stdout",
          "output_type": "stream",
          "text": [
            "            Kode Transaksi                          Kode Barang\n",
            "6     48522020230102093537             [Undrpdnmed, mic1, mic2]\n",
            "17    48522020230103081233                  [nec28, O26m3part2]\n",
            "18    48522020230103081320      [O26m3part2, rgltrmedicallotus]\n",
            "31    48522020230104101419                       [O21m3, 026m3]\n",
            "34    48522020230104114727                       [O21m3, 026m3]\n",
            "...                    ...                                  ...\n",
            "4464  48522020231227143702                  [026m3, O26m3part2]\n",
            "4470  48522020231229082043                    [O26m3part2, Co6]\n",
            "4490  48522020231230084805  [needleholderiedstuff, benangjahit]\n",
            "4496  48522020231230142356                [Lumbalm, krsetlumbL]\n",
            "4498  48522020231230144828                [tensionevoice, mic1]\n",
            "\n",
            "[672 rows x 2 columns]\n"
          ]
        }
      ],
      "source": [
        "# Filter df_normalized di mana 'Kode Barang' memiliki lebih dari satu nilai\n",
        "df_multiple_items = df_normalized[df_normalized['Kode Barang'].str.len() > 1]\n",
        "\n",
        "# Tampilkan DataFrame yang telah difilter\n",
        "print(df_multiple_items)"
      ]
    },
    {
      "cell_type": "markdown",
      "metadata": {},
      "source": [
        "Tentu, berikut adalah penjelasan langkah-langkahnya:\n",
        "\n",
        "1. **Inisialisasi TransactionEncoder**: `TransactionEncoder` adalah objek yang digunakan untuk mengubah data transaksi menjadi bentuk yang dapat diproses oleh algoritma asosiasi. Ini akan mengonversi data transaksi ke dalam bentuk array boolean di mana setiap kolom akan mewakili keberadaan atau ketiadaan suatu item dalam transaksi.\n",
        "\n",
        "2. **Mengaplikasikan TransactionEncoder pada 'Kode Barang' di df_multiple_items**: `te.fit(df_multiple_items['Kode Barang'])` digunakan untuk mempelajari item apa saja yang ada dalam data transaksi. Kemudian, `transform(df_multiple_items['Kode Barang'])` akan mengubah setiap transaksi menjadi array boolean berdasarkan pembelajaran yang telah dilakukan.\n",
        "\n",
        "3. **Membuat DataFrame baru dengan array boolean dan nama kolom dari TransactionEncoder**: `df_encoded = pd.DataFrame(te_ary, columns=te.columns_)` akan membuat DataFrame baru dari array boolean yang dihasilkan, di mana setiap kolom akan mewakili satu item dan setiap baris akan mewakili satu transaksi.\n",
        "\n",
        "4. **Menjalankan algoritma Apriori dengan support minimum 0.02**: `apriori(df_encoded, min_support=0.02, use_colnames=True)` akan menjalankan algoritma Apriori untuk menemukan itemset yang sering muncul bersama-sama (frequent itemsets) dengan support minimum 0.02.\n",
        "\n",
        "5. **Menjalankan association rules dengan confidence minimum 0.4**: `association_rules(frequent_itemsets, metric=\"confidence\", min_threshold=0.4)` akan menjalankan algoritma untuk menemukan aturan asosiasi dengan confidence minimum 0.4 dari frequent itemsets yang telah ditemukan sebelumnya.\n",
        "\n",
        "6. **Menampilkan frequent itemsets**: `print(frequent_itemsets)` akan menampilkan itemset yang sering muncul bersama-sama beserta supportnya.\n",
        "\n",
        "7. **Menampilkan association rules**: `print(rules)` akan menampilkan aturan asosiasi yang ditemukan beserta metrik-metriknya seperti antecedents (item/itemset yang menjadi syarat), consequents (item/itemset yang menjadi hasil), support, confidence, dan lift.\n"
      ]
    },
    {
      "cell_type": "code",
      "execution_count": 14,
      "metadata": {
        "colab": {
          "base_uri": "https://localhost:8080/"
        },
        "id": "IPC2GgafrBmm",
        "outputId": "f67c211f-2f8c-4348-b38c-1cc14d163c3d"
      },
      "outputs": [
        {
          "name": "stdout",
          "output_type": "stream",
          "text": [
            "     support                 itemsets\n",
            "0   0.080357                  (026m3)\n",
            "1   0.324405                  (O21m3)\n",
            "2   0.187500             (O26m3part2)\n",
            "3   0.068452          (canulcosmomed)\n",
            "4   0.075893         (onehealthcanul)\n",
            "5   0.114583                    (reg)\n",
            "6   0.078869                 (t021m3)\n",
            "7   0.062500                 (t026m3)\n",
            "8   0.119048      (O26m3part2, O21m3)\n",
            "9   0.055060  (onehealthcanul, O21m3)\n",
            "10  0.063988            (t021m3, reg)\n",
            "        antecedents consequents  antecedent support  consequent support  \\\n",
            "0      (O26m3part2)     (O21m3)            0.187500            0.324405   \n",
            "1  (onehealthcanul)     (O21m3)            0.075893            0.324405   \n",
            "2          (t021m3)       (reg)            0.078869            0.114583   \n",
            "\n",
            "    support  confidence      lift  leverage  conviction  zhangs_metric  \n",
            "0  0.119048    0.634921  1.957187  0.058222    1.850543       0.601923  \n",
            "1  0.055060    0.725490  2.236373  0.030440    2.461097       0.598250  \n",
            "2  0.063988    0.811321  7.080617  0.054951    4.692708       0.932299  \n"
          ]
        }
      ],
      "source": [
        "\n",
        "# Inisialisasi TransactionEncoder\n",
        "te = TransactionEncoder()\n",
        "# Mengaplikasikan TransactionEncoder pada 'Kode Barang' di df_multiple_items dan mengubahnya menjadi array boolean\n",
        "te_ary = te.fit(df_multiple_items['Kode Barang']).transform(df_multiple_items['Kode Barang'])\n",
        "# Membuat DataFrame baru dengan array boolean dan nama kolom dari TransactionEncoder\n",
        "df_encoded = pd.DataFrame(te_ary, columns=te.columns_)\n",
        "\n",
        "# Menjalankan algoritma Apriori dengan support minimum 0.1\n",
        "frequent_itemsets = apriori(df_encoded, min_support=0.05, use_colnames=True)\n",
        "\n",
        "# Menampilkan frequent itemsets\n",
        "print(frequent_itemsets)\n",
        "\n",
        "# Menjalankan association rules dengan confidence minimum 0.7\n",
        "rules = association_rules(frequent_itemsets, metric=\"confidence\", min_threshold=0.6)\n",
        "\n",
        "# Menampilkan association rules\n",
        "print(rules)\n",
        "\n",
        "\n"
      ]
    },
    {
      "cell_type": "markdown",
      "metadata": {
        "id": "MzrwOKYFukq3"
      },
      "source": [
        "Data dari DataFrame df diubah menjadi format transaksional untuk analisis pola pembelian menggunakan algoritma Apriori. Langkah-langkah ini melibatkan pengelompokkan data berdasarkan 'Kode Transaksi' dan 'Nama Barang', diikuti dengan perhitungan frekuensi kemunculan setiap pasangan 'Kode Transaksi' dan 'Nama Barang'. Hasilnya diubah menjadi matriks dengan 'Kode Transaksi' sebagai indeks baris, 'Nama Barang' sebagai kolom, dan frekuensi kemunculan sebagai nilai sel. Selanjutnya, nilai-nilai yang hilang (yang menunjukkan bahwa suatu item tidak dibeli dalam suatu transaksi) diisi dengan nilai 0. Proses ini menghasilkan representasi data yang sesuai untuk analisis asosiasi pembelian.\n"
      ]
    },
    {
      "cell_type": "code",
      "execution_count": 23,
      "metadata": {},
      "outputs": [
        {
          "name": "stdout",
          "output_type": "stream",
          "text": [
            "Requirement already satisfied: networkx in c:\\users\\galih setiawan\\appdata\\local\\programs\\python\\python311\\lib\\site-packages (3.2.1)\n",
            "Note: you may need to restart the kernel to use updated packages.\n"
          ]
        },
        {
          "name": "stderr",
          "output_type": "stream",
          "text": [
            "\n",
            "[notice] A new release of pip available: 22.3.1 -> 24.0\n",
            "[notice] To update, run: python.exe -m pip install --upgrade pip\n"
          ]
        }
      ],
      "source": [
        "pip install networkx\n"
      ]
    },
    {
      "cell_type": "code",
      "execution_count": 15,
      "metadata": {
        "colab": {
          "base_uri": "https://localhost:8080/"
        },
        "id": "1oud09V_ro0e",
        "outputId": "fc7f4ded-cdd7-47a4-ec40-b6bda26a4fbb"
      },
      "outputs": [
        {
          "data": {
            "image/png": "[encoded data removed]",
            "text/plain": [
              "<Figure size 1200x800 with 1 Axes>"
            ]
          },
          "metadata": {},
          "output_type": "display_data"
        }
      ],
      "source": [
        "# Import library yang diperlukan\n",
        "import networkx as nx  # Library untuk membuat dan memanipulasi grafik\n",
        "import matplotlib.pyplot as plt  # Library untuk membuat visualisasi\n",
        "\n",
        "# Membuat graph dari rules\n",
        "G = nx.DiGraph()  # Membuat graph dengan tipe directed graph (DiGraph) untuk menunjukkan arah asosiasi\n",
        "for idx, row in rules.iterrows():  # Iterasi melalui setiap aturan asosiasi dalam DataFrame rules\n",
        "    # Menambahkan edge (sisi) pada graph G dengan antecedents sebagai node awal dan consequents sebagai node tujuan\n",
        "    # Weight (berat) edge ditentukan oleh support dari aturan asosiasi\n",
        "    G.add_edge(tuple(row['antecedents']), tuple(row['consequents']), weight=row['support'])\n",
        "\n",
        "# Menyimpan posisi node menggunakan spring layout\n",
        "pos = nx.spring_layout(G)\n",
        "\n",
        "# Membuat visualisasi graph\n",
        "plt.figure(figsize=(12, 8))  # Mengatur ukuran gambar\n",
        "nx.draw(G, pos,  # Menggambar graph G dengan posisi node pos\n",
        "        with_labels=True,  # Menampilkan label pada node\n",
        "        node_size=5000,  # Ukuran node\n",
        "        node_color='skyblue',  # Warna node\n",
        "        font_size=10,  # Ukuran font label node\n",
        "        font_weight='bold',  # Ketebalan font label node\n",
        "        edge_color='gray')  # Warna edge\n",
        "# Menampilkan label pada edge berupa support\n",
        "labels = nx.get_edge_attributes(G, 'weight')\n",
        "nx.draw_networkx_edge_labels(G, pos, edge_labels=labels)\n",
        "plt.title('Association Rules Network Graph')  # Memberikan judul pada visualisasi\n",
        "plt.show()  # Menampilkan visualisasi\n"
      ]
    }
  ],
  "metadata": {
    "colab": {
      "provenance": []
    },
    "kernelspec": {
      "display_name": "Python 3",
      "name": "python3"
    },
    "language_info": {
      "codemirror_mode": {
        "name": "ipython",
        "version": 3
      },
      "file_extension": ".py",
      "mimetype": "text/x-python",
      "name": "python",
      "nbconvert_exporter": "python",
      "pygments_lexer": "ipython3",
      "version": "3.11.1"
    }
  },
  "nbformat": 4,
  "nbformat_minor": 0
}
