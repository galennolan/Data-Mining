{
 "cells": [
  {
   "cell_type": "code",
   "execution_count": 3,
   "metadata": {},
   "outputs": [
    {
     "name": "stdout",
     "output_type": "stream",
     "text": [
      "Koefisien kemiringan (slope): -1.0\n",
      "Intercept: 100.0\n",
      "Prediksi jumlah penjualan untuk diskon 75%: 25.0\n"
     ]
    }
   ],
   "source": [
    "import numpy as np\n",
    "from sklearn.linear_model import LinearRegression\n",
    "\n",
    "# Dataset (diskon dalam persen dan penjualan setelah diskon)\n",
    "diskon = np.array([10, 20, 30, 40, 50, 60, 70, 80, 90]).reshape(-1, 1)\n",
    "penjualan = np.array([90, 80, 70, 60, 50, 40, 30, 20, 10])\n",
    "\n",
    "# Membuat model Linear Regression\n",
    "model = LinearRegression()\n",
    "model.fit(diskon, penjualan) #untuk belajar variabel dependen dan independen ,menentukan slope jg intercept\n",
    "\n",
    "# Mencetak koefisien kemiringan (slope) dan intercept\n",
    "print(\"Koefisien kemiringan (slope):\", model.coef_[0])\n",
    "print(\"Intercept:\", model.intercept_)\n",
    "\n",
    "# Prediksi jumlah penjualan untuk diskon 75%\n",
    "diskon_prediksi = np.array([75]).reshape(-1, 1)\n",
    "penjualan_prediksi = model.predict(diskon_prediksi)\n",
    "\n",
    "print(\"Prediksi jumlah penjualan untuk diskon 75%:\", penjualan_prediksi[0])\n",
    "\n"
   ]
  }
 ],
 "metadata": {
  "kernelspec": {
   "display_name": "Python 3",
   "language": "python",
   "name": "python3"
  },
  "language_info": {
   "codemirror_mode": {
    "name": "ipython",
    "version": 3
   },
   "file_extension": ".py",
   "mimetype": "text/x-python",
   "name": "python",
   "nbconvert_exporter": "python",
   "pygments_lexer": "ipython3",
   "version": "3.11.1"
  }
 },
 "nbformat": 4,
 "nbformat_minor": 2
}
