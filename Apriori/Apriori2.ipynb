{
 "cells": [
  {
   "cell_type": "code",
   "execution_count": 5,
   "metadata": {},
   "outputs": [
    {
     "name": "stdout",
     "output_type": "stream",
     "text": [
      "Support untuk pembelian roti dan susu: 10.0%\n",
      "Confidence untuk pembelian roti jika sudah membeli susu: 1.00%\n",
      "Lift untuk pembelian roti jika sudah membeli susu: 100.00\n"
     ]
    }
   ],
   "source": [
    "# Contoh diubah menjadi 10 transaksi. dan frequency diubah jadi 1\n",
    "transactions = [\n",
    "    ['telur', 'susu', 'keju'],\n",
    "    ['roti', 'coklat'],\n",
    "    ['susu', 'gula', 'kopi'],\n",
    "    ['telur', 'susu', 'sabun'],\n",
    "    ['roti', 'sabun', 'keju'],\n",
    "    ['beras', 'gula'],\n",
    "    ['telur', 'susu', 'shampoo'],\n",
    "    ['roti', 'susu'],\n",
    "    ['telur', 'gula', 'kopi'],\n",
    "    ['telur', 'susu', 'keju']\n",
    "]\n",
    "\n",
    "# Menghitung support untuk roti dan susu\n",
    "support_roti_susu = sum(1 for transaction in transactions if 'roti' in transaction and 'susu' in transaction) / len(transactions) * 100\n",
    "\n",
    "# Menampilkan hasil\n",
    "print(f\"Support untuk pembelian roti dan susu: {support_roti_susu}%\")\n",
    "\n",
    "# Menghitung support untuk roti dan susu bersama-sama\n",
    "support_roti_susu_together = sum(1 for transaction in transactions if 'roti' in transaction and 'susu' in transaction) / len(transactions) * 100\n",
    "\n",
    "# Menghitung confidence\n",
    "confidence_roti_susu = support_roti_susu_together / support_roti_susu\n",
    "\n",
    "# Menampilkan hasil dalam persen\n",
    "print(f\"Confidence untuk pembelian roti jika sudah membeli susu: {confidence_roti_susu:.2f}%\")\n",
    "\n",
    "# Menghitung nilai lift\n",
    "lift_roti_susu = support_roti_susu_together / (support_roti_susu / 100)\n",
    "\n",
    "# Menampilkan hasil\n",
    "print(f\"Lift untuk pembelian roti jika sudah membeli susu: {lift_roti_susu:.2f}\")\n",
    "\n"
   ]
  }
 ],
 "metadata": {
  "kernelspec": {
   "display_name": "Python 3",
   "language": "python",
   "name": "python3"
  },
  "language_info": {
   "codemirror_mode": {
    "name": "ipython",
    "version": 3
   },
   "file_extension": ".py",
   "mimetype": "text/x-python",
   "name": "python",
   "nbconvert_exporter": "python",
   "pygments_lexer": "ipython3",
   "version": "3.11.1"
  }
 },
 "nbformat": 4,
 "nbformat_minor": 2
}
