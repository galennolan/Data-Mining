{
 "cells": [
  {
   "cell_type": "code",
   "execution_count": 2,
   "metadata": {},
   "outputs": [
    {
     "name": "stdout",
     "output_type": "stream",
     "text": [
      "Fitur-fitur (Input):\n",
      "['MedInc', 'HouseAge', 'AveRooms', 'AveBedrms', 'Population', 'AveOccup', 'Latitude', 'Longitude']\n",
      "\n",
      "Contoh Data (Fitur):\n",
      "[[ 8.32520000e+00  4.10000000e+01  6.98412698e+00  1.02380952e+00\n",
      "   3.22000000e+02  2.55555556e+00  3.78800000e+01 -1.22230000e+02]\n",
      " [ 8.30140000e+00  2.10000000e+01  6.23813708e+00  9.71880492e-01\n",
      "   2.40100000e+03  2.10984183e+00  3.78600000e+01 -1.22220000e+02]\n",
      " [ 7.25740000e+00  5.20000000e+01  8.28813559e+00  1.07344633e+00\n",
      "   4.96000000e+02  2.80225989e+00  3.78500000e+01 -1.22240000e+02]\n",
      " [ 5.64310000e+00  5.20000000e+01  5.81735160e+00  1.07305936e+00\n",
      "   5.58000000e+02  2.54794521e+00  3.78500000e+01 -1.22250000e+02]\n",
      " [ 3.84620000e+00  5.20000000e+01  6.28185328e+00  1.08108108e+00\n",
      "   5.65000000e+02  2.18146718e+00  3.78500000e+01 -1.22250000e+02]]\n",
      "\n",
      "Label (Target) - Harga Rumah:\n",
      "[4.526 3.585 3.521 3.413 3.422]\n",
      "\n",
      "Mean Squared Error (MSE): 0.5558915986952425\n",
      "R-squared (R2): 0.5757877060324521\n",
      "\n",
      "Perbandingan Harga Rumah Asli vs Prediksi:\n",
      "    Actual  Predicted\n",
      "0  0.47700   0.719123\n",
      "1  0.45800   1.764017\n",
      "2  5.00001   2.709659\n",
      "3  2.18600   2.838926\n",
      "4  2.78000   2.604657\n"
     ]
    }
   ],
   "source": [
    "import numpy as np\n",
    "import pandas as pd\n",
    "from sklearn.datasets import fetch_california_housing\n",
    "from sklearn.model_selection import train_test_split\n",
    "from sklearn.linear_model import LinearRegression\n",
    "from sklearn.metrics import mean_squared_error, r2_score\n",
    "\n",
    "# Mengimpor dataset California Housing\n",
    "california = fetch_california_housing()\n",
    "\n",
    "# fitur dan label dalam dataset\n",
    "X = california.data       # Fitur-fitur (input)\n",
    "y = california.target     # Label (target/output) - Harga rumah\n",
    "\n",
    "# Menampilkan informasi tentang data dan label\n",
    "print(\"Fitur-fitur (Input):\")\n",
    "print(california.feature_names)\n",
    "print(\"\\nContoh Data (Fitur):\")\n",
    "print(X[:5])\n",
    "print(\"\\nLabel (Target) - Harga Rumah:\")\n",
    "print(y[:5])\n",
    "\n",
    "# Membagi dataset menjadi data pelatihan dan pengujian\n",
    "X_train, X_test, y_train, y_test = train_test_split(X, y, test_size=0.2, random_state=42)\n",
    "\n",
    "# Membuat model regresi linier\n",
    "model = LinearRegression()\n",
    "\n",
    "# Melatih model dengan data pelatihan\n",
    "model.fit(X_train, y_train)\n",
    "\n",
    "# Memprediksi harga rumah dengan data pengujian\n",
    "y_pred = model.predict(X_test)\n",
    "\n",
    "# Mengevaluasi model\n",
    "mse = mean_squared_error(y_test, y_pred)\n",
    "r2 = r2_score(y_test, y_pred)\n",
    "\n",
    "# Menampilkan hasil evaluasi\n",
    "print(f\"\\nMean Squared Error (MSE): {mse}\")\n",
    "print(f\"R-squared (R2): {r2}\")\n",
    "\n",
    "# Menampilkan beberapa prediksi vs nilai asli\n",
    "df = pd.DataFrame({'Actual': y_test, 'Predicted': y_pred})\n",
    "print(\"\\nPerbandingan Harga Rumah Asli vs Prediksi:\")\n",
    "print(df.head())\n"
   ]
  }
 ],
 "metadata": {
  "kernelspec": {
   "display_name": "Python 3",
   "language": "python",
   "name": "python3"
  },
  "language_info": {
   "codemirror_mode": {
    "name": "ipython",
    "version": 3
   },
   "file_extension": ".py",
   "mimetype": "text/x-python",
   "name": "python",
   "nbconvert_exporter": "python",
   "pygments_lexer": "ipython3",
   "version": "3.11.1"
  }
 },
 "nbformat": 4,
 "nbformat_minor": 2
}
