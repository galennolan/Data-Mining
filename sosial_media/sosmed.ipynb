{
 "cells": [
  {
   "cell_type": "code",
   "execution_count": 11,
   "metadata": {},
   "outputs": [
    {
     "name": "stdout",
     "output_type": "stream",
     "text": [
      "Collecting seabornNote: you may need to restart the kernel to use updated packages.\n",
      "\n",
      "  Downloading seaborn-0.13.2-py3-none-any.whl (294 kB)\n",
      "     ------------------------------------ 294.9/294.9 kB 674.6 kB/s eta 0:00:00\n",
      "Requirement already satisfied: numpy!=1.24.0,>=1.20 in c:\\users\\galih setiawan\\appdata\\local\\programs\\python\\python311\\lib\\site-packages (from seaborn) (1.26.4)\n",
      "Requirement already satisfied: pandas>=1.2 in c:\\users\\galih setiawan\\appdata\\local\\programs\\python\\python311\\lib\\site-packages (from seaborn) (2.2.1)\n",
      "Requirement already satisfied: matplotlib!=3.6.1,>=3.4 in c:\\users\\galih setiawan\\appdata\\local\\programs\\python\\python311\\lib\\site-packages (from seaborn) (3.8.3)\n",
      "Requirement already satisfied: contourpy>=1.0.1 in c:\\users\\galih setiawan\\appdata\\local\\programs\\python\\python311\\lib\\site-packages (from matplotlib!=3.6.1,>=3.4->seaborn) (1.2.0)\n",
      "Requirement already satisfied: cycler>=0.10 in c:\\users\\galih setiawan\\appdata\\local\\programs\\python\\python311\\lib\\site-packages (from matplotlib!=3.6.1,>=3.4->seaborn) (0.12.1)\n",
      "Requirement already satisfied: fonttools>=4.22.0 in c:\\users\\galih setiawan\\appdata\\local\\programs\\python\\python311\\lib\\site-packages (from matplotlib!=3.6.1,>=3.4->seaborn) (4.49.0)\n",
      "Requirement already satisfied: kiwisolver>=1.3.1 in c:\\users\\galih setiawan\\appdata\\local\\programs\\python\\python311\\lib\\site-packages (from matplotlib!=3.6.1,>=3.4->seaborn) (1.4.5)\n",
      "Requirement already satisfied: packaging>=20.0 in c:\\users\\galih setiawan\\appdata\\roaming\\python\\python311\\site-packages (from matplotlib!=3.6.1,>=3.4->seaborn) (23.0)\n",
      "Requirement already satisfied: pillow>=8 in c:\\users\\galih setiawan\\appdata\\local\\programs\\python\\python311\\lib\\site-packages (from matplotlib!=3.6.1,>=3.4->seaborn) (10.2.0)\n",
      "Requirement already satisfied: pyparsing>=2.3.1 in c:\\users\\galih setiawan\\appdata\\local\\programs\\python\\python311\\lib\\site-packages (from matplotlib!=3.6.1,>=3.4->seaborn) (3.1.2)\n",
      "Requirement already satisfied: python-dateutil>=2.7 in c:\\users\\galih setiawan\\appdata\\roaming\\python\\python311\\site-packages (from matplotlib!=3.6.1,>=3.4->seaborn) (2.8.2)\n",
      "Requirement already satisfied: pytz>=2020.1 in c:\\users\\galih setiawan\\appdata\\local\\programs\\python\\python311\\lib\\site-packages (from pandas>=1.2->seaborn) (2024.1)\n",
      "Requirement already satisfied: tzdata>=2022.7 in c:\\users\\galih setiawan\\appdata\\local\\programs\\python\\python311\\lib\\site-packages (from pandas>=1.2->seaborn) (2024.1)\n",
      "Requirement already satisfied: six>=1.5 in c:\\users\\galih setiawan\\appdata\\roaming\\python\\python311\\site-packages (from python-dateutil>=2.7->matplotlib!=3.6.1,>=3.4->seaborn) (1.16.0)\n",
      "Installing collected packages: seaborn\n",
      "Successfully installed seaborn-0.13.2\n"
     ]
    },
    {
     "name": "stderr",
     "output_type": "stream",
     "text": [
      "\n",
      "[notice] A new release of pip available: 22.3.1 -> 24.0\n",
      "[notice] To update, run: python.exe -m pip install --upgrade pip\n"
     ]
    }
   ],
   "source": [
    "pip install seaborn;"
   ]
  },
  {
   "cell_type": "code",
   "execution_count": 27,
   "metadata": {},
   "outputs": [
    {
     "name": "stdout",
     "output_type": "stream",
     "text": [
      "Date length: 60\n",
      "Video Views length: 60\n",
      "Profile Views length: 64\n",
      "Likes length: 61\n",
      "Comments length: 59\n",
      "Shares length: 59\n",
      "Unique Viewers length: 60\n"
     ]
    },
    {
     "ename": "ValueError",
     "evalue": "All arrays must be of the same length",
     "output_type": "error",
     "traceback": [
      "\u001b[1;31m---------------------------------------------------------------------------\u001b[0m",
      "\u001b[1;31mValueError\u001b[0m                                Traceback (most recent call last)",
      "Cell \u001b[1;32mIn[27], line 66\u001b[0m\n\u001b[0;32m     62\u001b[0m \u001b[38;5;28mprint\u001b[39m(\u001b[38;5;124m\"\u001b[39m\u001b[38;5;124mShares length:\u001b[39m\u001b[38;5;124m\"\u001b[39m, \u001b[38;5;28mlen\u001b[39m(data[\u001b[38;5;124m\"\u001b[39m\u001b[38;5;124mShares\u001b[39m\u001b[38;5;124m\"\u001b[39m]))\n\u001b[0;32m     63\u001b[0m \u001b[38;5;28mprint\u001b[39m(\u001b[38;5;124m\"\u001b[39m\u001b[38;5;124mUnique Viewers length:\u001b[39m\u001b[38;5;124m\"\u001b[39m, \u001b[38;5;28mlen\u001b[39m(data[\u001b[38;5;124m\"\u001b[39m\u001b[38;5;124mUnique Viewers\u001b[39m\u001b[38;5;124m\"\u001b[39m]))\n\u001b[1;32m---> 66\u001b[0m df \u001b[38;5;241m=\u001b[39m \u001b[43mpd\u001b[49m\u001b[38;5;241;43m.\u001b[39;49m\u001b[43mDataFrame\u001b[49m\u001b[43m(\u001b[49m\u001b[43mdata\u001b[49m\u001b[43m)\u001b[49m\n\u001b[0;32m     68\u001b[0m \u001b[38;5;66;03m# Pivot the data\u001b[39;00m\n\u001b[0;32m     69\u001b[0m df_pivot \u001b[38;5;241m=\u001b[39m df\u001b[38;5;241m.\u001b[39mpivot(\u001b[38;5;124m\"\u001b[39m\u001b[38;5;124mDate\u001b[39m\u001b[38;5;124m\"\u001b[39m, \u001b[38;5;124m\"\u001b[39m\u001b[38;5;124mProfile Views\u001b[39m\u001b[38;5;124m\"\u001b[39m, \u001b[38;5;124m\"\u001b[39m\u001b[38;5;124mLikes\u001b[39m\u001b[38;5;124m\"\u001b[39m)\n",
      "File \u001b[1;32mc:\\Users\\Galih Setiawan\\AppData\\Local\\Programs\\Python\\Python311\\Lib\\site-packages\\pandas\\core\\frame.py:767\u001b[0m, in \u001b[0;36mDataFrame.__init__\u001b[1;34m(self, data, index, columns, dtype, copy)\u001b[0m\n\u001b[0;32m    761\u001b[0m     mgr \u001b[38;5;241m=\u001b[39m \u001b[38;5;28mself\u001b[39m\u001b[38;5;241m.\u001b[39m_init_mgr(\n\u001b[0;32m    762\u001b[0m         data, axes\u001b[38;5;241m=\u001b[39m{\u001b[38;5;124m\"\u001b[39m\u001b[38;5;124mindex\u001b[39m\u001b[38;5;124m\"\u001b[39m: index, \u001b[38;5;124m\"\u001b[39m\u001b[38;5;124mcolumns\u001b[39m\u001b[38;5;124m\"\u001b[39m: columns}, dtype\u001b[38;5;241m=\u001b[39mdtype, copy\u001b[38;5;241m=\u001b[39mcopy\n\u001b[0;32m    763\u001b[0m     )\n\u001b[0;32m    765\u001b[0m \u001b[38;5;28;01melif\u001b[39;00m \u001b[38;5;28misinstance\u001b[39m(data, \u001b[38;5;28mdict\u001b[39m):\n\u001b[0;32m    766\u001b[0m     \u001b[38;5;66;03m# GH#38939 de facto copy defaults to False only in non-dict cases\u001b[39;00m\n\u001b[1;32m--> 767\u001b[0m     mgr \u001b[38;5;241m=\u001b[39m \u001b[43mdict_to_mgr\u001b[49m\u001b[43m(\u001b[49m\u001b[43mdata\u001b[49m\u001b[43m,\u001b[49m\u001b[43m \u001b[49m\u001b[43mindex\u001b[49m\u001b[43m,\u001b[49m\u001b[43m \u001b[49m\u001b[43mcolumns\u001b[49m\u001b[43m,\u001b[49m\u001b[43m \u001b[49m\u001b[43mdtype\u001b[49m\u001b[38;5;241;43m=\u001b[39;49m\u001b[43mdtype\u001b[49m\u001b[43m,\u001b[49m\u001b[43m \u001b[49m\u001b[43mcopy\u001b[49m\u001b[38;5;241;43m=\u001b[39;49m\u001b[43mcopy\u001b[49m\u001b[43m,\u001b[49m\u001b[43m \u001b[49m\u001b[43mtyp\u001b[49m\u001b[38;5;241;43m=\u001b[39;49m\u001b[43mmanager\u001b[49m\u001b[43m)\u001b[49m\n\u001b[0;32m    768\u001b[0m \u001b[38;5;28;01melif\u001b[39;00m \u001b[38;5;28misinstance\u001b[39m(data, ma\u001b[38;5;241m.\u001b[39mMaskedArray):\n\u001b[0;32m    769\u001b[0m     \u001b[38;5;28;01mfrom\u001b[39;00m \u001b[38;5;21;01mnumpy\u001b[39;00m\u001b[38;5;21;01m.\u001b[39;00m\u001b[38;5;21;01mma\u001b[39;00m \u001b[38;5;28;01mimport\u001b[39;00m mrecords\n",
      "File \u001b[1;32mc:\\Users\\Galih Setiawan\\AppData\\Local\\Programs\\Python\\Python311\\Lib\\site-packages\\pandas\\core\\internals\\construction.py:503\u001b[0m, in \u001b[0;36mdict_to_mgr\u001b[1;34m(data, index, columns, dtype, typ, copy)\u001b[0m\n\u001b[0;32m    499\u001b[0m     \u001b[38;5;28;01melse\u001b[39;00m:\n\u001b[0;32m    500\u001b[0m         \u001b[38;5;66;03m# dtype check to exclude e.g. range objects, scalars\u001b[39;00m\n\u001b[0;32m    501\u001b[0m         arrays \u001b[38;5;241m=\u001b[39m [x\u001b[38;5;241m.\u001b[39mcopy() \u001b[38;5;28;01mif\u001b[39;00m \u001b[38;5;28mhasattr\u001b[39m(x, \u001b[38;5;124m\"\u001b[39m\u001b[38;5;124mdtype\u001b[39m\u001b[38;5;124m\"\u001b[39m) \u001b[38;5;28;01melse\u001b[39;00m x \u001b[38;5;28;01mfor\u001b[39;00m x \u001b[38;5;129;01min\u001b[39;00m arrays]\n\u001b[1;32m--> 503\u001b[0m \u001b[38;5;28;01mreturn\u001b[39;00m \u001b[43marrays_to_mgr\u001b[49m\u001b[43m(\u001b[49m\u001b[43marrays\u001b[49m\u001b[43m,\u001b[49m\u001b[43m \u001b[49m\u001b[43mcolumns\u001b[49m\u001b[43m,\u001b[49m\u001b[43m \u001b[49m\u001b[43mindex\u001b[49m\u001b[43m,\u001b[49m\u001b[43m \u001b[49m\u001b[43mdtype\u001b[49m\u001b[38;5;241;43m=\u001b[39;49m\u001b[43mdtype\u001b[49m\u001b[43m,\u001b[49m\u001b[43m \u001b[49m\u001b[43mtyp\u001b[49m\u001b[38;5;241;43m=\u001b[39;49m\u001b[43mtyp\u001b[49m\u001b[43m,\u001b[49m\u001b[43m \u001b[49m\u001b[43mconsolidate\u001b[49m\u001b[38;5;241;43m=\u001b[39;49m\u001b[43mcopy\u001b[49m\u001b[43m)\u001b[49m\n",
      "File \u001b[1;32mc:\\Users\\Galih Setiawan\\AppData\\Local\\Programs\\Python\\Python311\\Lib\\site-packages\\pandas\\core\\internals\\construction.py:114\u001b[0m, in \u001b[0;36marrays_to_mgr\u001b[1;34m(arrays, columns, index, dtype, verify_integrity, typ, consolidate)\u001b[0m\n\u001b[0;32m    111\u001b[0m \u001b[38;5;28;01mif\u001b[39;00m verify_integrity:\n\u001b[0;32m    112\u001b[0m     \u001b[38;5;66;03m# figure out the index, if necessary\u001b[39;00m\n\u001b[0;32m    113\u001b[0m     \u001b[38;5;28;01mif\u001b[39;00m index \u001b[38;5;129;01mis\u001b[39;00m \u001b[38;5;28;01mNone\u001b[39;00m:\n\u001b[1;32m--> 114\u001b[0m         index \u001b[38;5;241m=\u001b[39m \u001b[43m_extract_index\u001b[49m\u001b[43m(\u001b[49m\u001b[43marrays\u001b[49m\u001b[43m)\u001b[49m\n\u001b[0;32m    115\u001b[0m     \u001b[38;5;28;01melse\u001b[39;00m:\n\u001b[0;32m    116\u001b[0m         index \u001b[38;5;241m=\u001b[39m ensure_index(index)\n",
      "File \u001b[1;32mc:\\Users\\Galih Setiawan\\AppData\\Local\\Programs\\Python\\Python311\\Lib\\site-packages\\pandas\\core\\internals\\construction.py:677\u001b[0m, in \u001b[0;36m_extract_index\u001b[1;34m(data)\u001b[0m\n\u001b[0;32m    675\u001b[0m lengths \u001b[38;5;241m=\u001b[39m \u001b[38;5;28mlist\u001b[39m(\u001b[38;5;28mset\u001b[39m(raw_lengths))\n\u001b[0;32m    676\u001b[0m \u001b[38;5;28;01mif\u001b[39;00m \u001b[38;5;28mlen\u001b[39m(lengths) \u001b[38;5;241m>\u001b[39m \u001b[38;5;241m1\u001b[39m:\n\u001b[1;32m--> 677\u001b[0m     \u001b[38;5;28;01mraise\u001b[39;00m \u001b[38;5;167;01mValueError\u001b[39;00m(\u001b[38;5;124m\"\u001b[39m\u001b[38;5;124mAll arrays must be of the same length\u001b[39m\u001b[38;5;124m\"\u001b[39m)\n\u001b[0;32m    679\u001b[0m \u001b[38;5;28;01mif\u001b[39;00m have_dicts:\n\u001b[0;32m    680\u001b[0m     \u001b[38;5;28;01mraise\u001b[39;00m \u001b[38;5;167;01mValueError\u001b[39;00m(\n\u001b[0;32m    681\u001b[0m         \u001b[38;5;124m\"\u001b[39m\u001b[38;5;124mMixing dicts with non-Series may lead to ambiguous ordering.\u001b[39m\u001b[38;5;124m\"\u001b[39m\n\u001b[0;32m    682\u001b[0m     )\n",
      "\u001b[1;31mValueError\u001b[0m: All arrays must be of the same length"
     ]
    }
   ],
   "source": [
    "import pandas as pd\n",
    "import matplotlib.pyplot as plt\n",
    "import seaborn as sns\n",
    "\n",
    "data = {\n",
    "    \"Date\": [A\n",
    "        \"2024-03-08\", \"2024-03-09\", \"2024-03-10\", \"2024-03-11\", \"2024-03-12\",\n",
    "        \"2024-03-13\", \"2024-03-14\", \"2024-03-15\", \"2024-03-16\", \"2024-03-17\",\n",
    "        \"2024-03-18\", \"2024-03-19\", \"2024-03-20\", \"2024-03-21\", \"2024-03-22\",\n",
    "        \"2024-03-23\", \"2024-03-24\", \"2024-03-25\", \"2024-03-26\", \"2024-03-27\",\n",
    "        \"2024-03-28\", \"2024-03-29\", \"2024-03-30\", \"2024-03-31\", \"2024-04-01\",\n",
    "        \"2024-04-02\", \"2024-04-03\", \"2024-04-04\", \"2024-04-05\", \"2024-04-06\",\n",
    "        \"2024-04-07\", \"2024-04-08\", \"2024-04-09\", \"2024-04-10\", \"2024-04-11\",\n",
    "        \"2024-04-12\", \"2024-04-13\", \"2024-04-14\", \"2024-04-15\", \"2024-04-16\",\n",
    "        \"2024-04-17\", \"2024-04-18\", \"2024-04-19\", \"2024-04-20\", \"2024-04-21\",\n",
    "        \"2024-04-22\", \"2024-04-23\", \"2024-04-24\", \"2024-04-25\", \"2024-04-26\",\n",
    "        \"2024-04-27\", \"2024-04-28\", \"2024-04-29\", \"2024-04-30\", \"2024-05-01\",\n",
    "        \"2024-05-02\", \"2024-05-03\", \"2024-05-04\", \"2024-05-05\", \"2024-05-06\"\n",
    "    ],\n",
    "    \"Video Views\": [\n",
    "        1013, 1225, 1202, 929, 884, 1035, 1438, 1363, 1179, 1081, 974, 1472,\n",
    "        1100, 1197, 1073, 875, 996, 1017, 993, 920, 829, 804, 747, 737, 878,\n",
    "        819, 924, 861, 677, 581, 641, 637, 548, 433, 713, 672, 988, 698, 887,\n",
    "        1240, 1075, 1083, 853, 930, 1003, 1541, 1026, 1280, 1102, 1453, 902,\n",
    "        1389, 951, 998, 1190, 1208, 982, 994, 833, 1119\n",
    "    ],\n",
    "    \"Profile Views\": [\n",
    "        6, 5, 5, 6, 5, 7, 10, 5, 4, 6, 2, 13, 6, 3, 6, 7, 4, 8, 5, 4, 6, 6, 4,\n",
    "        4, 5, 1, 9, 3, 1, 4, 2, 3, 0, 0, 3, 3, 6, 1, 0, 5, 9, 7, 3, 4, 9, 6,\n",
    "        4, 9, 6, 3, 8, 6, 2, 11, 1, 0, 3, 8, 6, 4, 2, 3, 1, 3\n",
    "    ],\n",
    "    \"Likes\": [\n",
    "        16, 13, 18, 7, 9, 12, 24, 22, 29, 12, 8, 17, 9, 14, 15, 12, 13, 45, 10,\n",
    "        8, 10, 9, 10, 8, 7, 16, 13, 9, 7, 7, 5, 7, 5, 3, 11, 5, 14, 11, 11, 19,\n",
    "        19, 17, 10, 10, 9, 9, 47, 16, 17, 12, 61, 14, 45, 10, 9, 8, 33, 6, 17,\n",
    "        12, 13\n",
    "    ],\n",
    "    \"Comments\": [\n",
    "        0, 0, 1, 0, 0, 0, 0, 0, 1, 0, 0, 2, 0, 0, 0, 0, 0, 0, 0, 0, 0, 0, 1, 0,\n",
    "        0, 0, 1, 0, 0, 0, 0, 0, 0, 0, 0, 2, 2, 1, 0, 0, 2, 0, 2, 2, 1, 0, 0, 0,\n",
    "        0, 3, 0, 0, 0, 0, 0, 0, 0, 0, 0\n",
    "    ],\n",
    "    \"Shares\": [\n",
    "        1, 0, 1, 0, 0, 0, 0, 1, 1, 0, 2, 1, 2, 1, 2, 2, 1, 1, 0, 0, 0, 2, 1, 2,\n",
    "        1, 2, 2, 3, 1, 1, 0, 0, 1, 0, 1, 0, 0, 1, 0, 2, 1, 0, 0, 1, 0, 3, 0, 2,\n",
    "        0, 1, 3, 2, 0, 1, 0, 0, 1, 2, 0\n",
    "    ],\n",
    "    \"Unique Viewers\": [\n",
    "        767, 950, 906, 685, 676, 780, 1075, 1070, 895, 749, 729, 1119, 808,\n",
    "        886, 814, 636, 683, 653, 718, 653, 604, 591, 535, 556, 643, 632, 678,\n",
    "        617, 514, 436, 509, 513, 408, 339, 547, 527, 794, 538, 722, 1011, 850,\n",
    "        822, 647, 709, 748, 1203, 753, 1003, 784, 1145, 635, 1067, 723, 690,\n",
    "        846, 909, 697, 752, 645, 821\n",
    "    ]\n",
    "}\n",
    "\n",
    "print(\"Date length:\", len(data[\"Date\"]))\n",
    "print(\"Video Views length:\", len(data[\"Video Views\"]))\n",
    "print(\"Profile Views length:\", len(data[\"Profile Views\"]))\n",
    "print(\"Likes length:\", len(data[\"Likes\"]))\n",
    "print(\"Comments length:\", len(data[\"Comments\"]))\n",
    "print(\"Shares length:\", len(data[\"Shares\"]))\n",
    "print(\"Unique Viewers length:\", len(data[\"Unique Viewers\"]))\n",
    "\n",
    "\n",
    "df = pd.DataFrame(data)\n",
    "\n",
    "# Pivot the data\n",
    "df_pivot = df.pivot(\"Date\", \"Profile Views\", \"Likes\")\n",
    "\n",
    "plt.figure(figsize=(12, 8))\n",
    "sns.heatmap(df_pivot, cmap=\"YlGnBu\", annot=True, fmt=\".0f\")\n",
    "plt.title(\"Likes vs Profile Views Heatmap\")\n",
    "plt.show()\n"
   ]
  },
  {
   "cell_type": "code",
   "execution_count": 28,
   "metadata": {},
   "outputs": [
    {
     "name": "stdout",
     "output_type": "stream",
     "text": [
      "        Date \"Video Views\" \"Profile Views\" \"Likes\" \"Comments\" \"Shares\"  \\\n",
      "0 2024-03-08        \"1013\"             \"6\"    \"16\"        \"0\"      \"1\"   \n",
      "1 2024-03-09        \"1225\"             \"5\"    \"13\"        \"0\"      \"0\"   \n",
      "2 2024-03-10        \"1202\"             \"5\"    \"18\"        \"1\"      \"1\"   \n",
      "3 2024-03-11         \"929\"             \"6\"     \"7\"        \"0\"      \"0\"   \n",
      "4 2024-03-12         \"884\"             \"5\"     \"9\"        \"0\"      \"0\"   \n",
      "\n",
      "  \"Unique Viewers\"  \n",
      "0            \"767\"  \n",
      "1            \"950\"  \n",
      "2            \"906\"  \n",
      "3            \"685\"  \n",
      "4            \"676\"  \n"
     ]
    }
   ],
   "source": [
    "import pandas as pd\n",
    "\n",
    "# Define the data as a string (replace with your actual data source)\n",
    "data = \"\"\"Date,\"Video Views\",\"Profile Views\",\"Likes\",\"Comments\",\"Shares\",\"Unique Viewers\"\n",
    "2024-03-08,\"1013\",\"6\",\"16\",\"0\",\"1\",\"767\"\n",
    "2024-03-09,\"1225\",\"5\",\"13\",\"0\",\"0\",\"950\"\n",
    "2024-03-10,\"1202\",\"5\",\"18\",\"1\",\"1\",\"906\"\n",
    "2024-03-11,\"929\",\"6\",\"7\",\"0\",\"0\",\"685\"\n",
    "2024-03-12,\"884\",\"5\",\"9\",\"0\",\"0\",\"676\"\n",
    "2024-03-13,\"1035\",\"7\",\"12\",\"0\",\"0\",\"780\"\n",
    "2024-03-14,\"1438\",\"10\",\"24\",\"0\",\"0\",\"1075\"\n",
    "2024-03-15,\"1363\",\"5\",\"22\",\"0\",\"1\",\"1070\"\n",
    "2024-03-16,\"1179\",\"4\",\"29\",\"1\",\"1\",\"895\"\n",
    "2024-03-17,\"1081\",\"6\",\"12\",\"0\",\"0\",\"749\"\n",
    "2024-03-18,\"974\",\"2\",\"8\",\"0\",\"2\",\"729\"\n",
    "2024-03-19,\"1472\",\"13\",\"17\",\"2\",\"1\",\"1119\"\n",
    "2024-03-20,\"1100\",\"6\",\"9\",\"0\",\"2\",\"808\"\n",
    "2024-03-21,\"1197\",\"3\",\"14\",\"0\",\"1\",\"886\"\n",
    "2024-03-22,\"1073\",\"6\",\"15\",\"0\",\"2\",\"814\"\n",
    "2024-03-23,\"875\",\"7\",\"12\",\"0\",\"1\",\"636\"\n",
    "2024-03-24,\"996\",\"4\",\"13\",\"0\",\"1\",\"683\"\n",
    "2024-03-25,\"1017\",\"8\",\"45\",\"0\",\"1\",\"653\"\n",
    "2024-03-26,\"993\",\"5\",\"10\",\"0\",\"0\",\"718\"\n",
    "2024-03-27,\"920\",\"4\",\"8\",\"0\",\"1\",\"653\"\n",
    "2024-03-28,\"829\",\"6\",\"10\",\"0\",\"0\",\"604\"\n",
    "2024-03-29,\"804\",\"6\",\"9\",\"0\",\"1\",\"591\"\n",
    "2024-03-30,\"747\",\"4\",\"10\",\"1\",\"1\",\"535\"\n",
    "2024-03-31,\"737\",\"4\",\"8\",\"0\",\"2\",\"556\"\n",
    "2024-04-01,\"878\",\"5\",\"7\",\"0\",\"1\",\"643\"\n",
    "2024-04-02,\"819\",\"1\",\"16\",\"0\",\"2\",\"632\"\n",
    "2024-04-03,\"924\",\"9\",\"13\",\"1\",\"0\",\"678\"\n",
    "2024-04-04,\"861\",\"3\",\"9\",\"0\",\"3\",\"617\"\n",
    "2024-04-05,\"677\",\"1\",\"7\",\"0\",\"1\",\"514\"\n",
    "2024-04-06,\"581\",\"4\",\"7\",\"0\",\"0\",\"436\"\n",
    "2024-04-07,\"641\",\"2\",\"7\",\"0\",\"0\",\"509\"\n",
    "2024-04-08,\"637\",\"3\",\"5\",\"0\",\"1\",\"513\"\n",
    "2024-04-09,\"548\",\"0\",\"7\",\"0\",\"0\",\"408\"\n",
    "2024-04-10,\"433\",\"0\",\"3\",\"0\",\"0\",\"339\"\n",
    "2024-04-11,\"713\",\"3\",\"11\",\"2\",\"0\",\"547\"\n",
    "2024-04-12,\"672\",\"3\",\"5\",\"2\",\"1\",\"527\"\n",
    "2024-04-13,\"988\",\"6\",\"14\",\"1\",\"0\",\"794\"\n",
    "2024-04-14,\"698\",\"1\",\"11\",\"1\",\"0\",\"538\"\n",
    "2024-04-15,\"887\",\"0\",\"11\",\"0\",\"1\",\"722\"\n",
    "2024-04-16,\"1240\",\"5\",\"19\",\"0\",\"1\",\"1011\"\n",
    "2024-04-17,\"1075\",\"9\",\"19\",\"0\",\"2\",\"850\"\n",
    "2024-04-18,\"1083\",\"7\",\"17\",\"2\",\"1\",\"822\"\n",
    "2024-04-19,\"853\",\"3\",\"10\",\"2\",\"1\",\"647\"\n",
    "2024-04-20,\"930\",\"4\",\"10\",\"0\",\"0\",\"709\"\n",
    "2024-04-21,\"1003\",\"9\",\"9\",\"0\",\"2\",\"748\"\n",
    "2024-04-22,\"1541\",\"6\",\"47\",\"0\",\"3\",\"1203\"\n",
    "2024-04-23,\"1026\",\"3\",\"16\",\"0\",\"2\",\"753\"\n",
    "2024-04-24,\"1280\",\"4\",\"17\",\"0\",\"1\",\"1003\"\n",
    "2024-04-25,\"1102\",\"8\",\"12\",\"0\",\"4\",\"784\"\n",
    "2024-04-26,\"1453\",\"8\",\"61\",\"3\",\"1\",\"1145\"\n",
    "2024-04-27,\"902\",\"2\",\"14\",\"0\",\"2\",\"635\"\n",
    "2024-04-28,\"1389\",\"4\",\"45\",\"2\",\"3\",\"1067\"\n",
    "2024-04-29,\"951\",\"4\",\"10\",\"1\",\"0\",\"723\"\n",
    "2024-04-30,\"998\",\"6\",\"9\",\"0\",\"2\",\"690\"\n",
    "2024-05-01,\"1190\",\"8\",\"8\",\"0\",\"2\",\"846\"\n",
    "2024-05-02,\"1208\",\"6\",\"33\",\"2\",\"1\",\"909\"\n",
    "2024-05-03,\"982\",\"2\",\"6\",\"0\",\"0\",\"697\"\n",
    "2024-05-04,\"994\",\"11\",\"17\",\"0\",\"0\",\"752\"\n",
    "2024-05-05,\"833\",\"1\",\"12\",\"0\",\"0\",\"645\"\n",
    "2024-05-06,\"1119\",\"3\",\"13\",\"0\",\"0\",\"821\"\n",
    "\"\"\"\n",
    "\n",
    "# Split the data into lines\n",
    "lines = data.splitlines()\n",
    "\n",
    "# Skip the header line (assuming the first line contains column names)\n",
    "headers = lines[0].split(\",\")\n",
    "data_lines = lines[1:]\n",
    "\n",
    "# Use a list comprehension to create a list of dictionaries, one for each data row\n",
    "data = [dict(zip(headers, line.split(\",\"))) for line in data_lines]\n",
    "\n",
    "# Read the data into a DataFrame, specifying the date format for the \"Date\" column\n",
    "df = pd.DataFrame(data)\n",
    "df[\"Date\"] = pd.to_datetime(df[\"Date\"], format=\"%Y-%m-%d\")  # Convert date to datetime format\n",
    "\n",
    "# Now you can use the DataFrame 'df' for further analysis or visualization\n",
    "print(df.head())  # Display the first few rows of the DataFrame\n"
   ]
  },
  {
   "cell_type": "code",
   "execution_count": 30,
   "metadata": {},
   "outputs": [
    {
     "name": "stdout",
     "output_type": "stream",
     "text": [
      "Error: One or more heatmap columns are missing from the DataFrame.\n"
     ]
    },
    {
     "data": {
      "text/plain": [
       "<Figure size 1000x600 with 0 Axes>"
      ]
     },
     "metadata": {},
     "output_type": "display_data"
    }
   ],
   "source": [
    "# Ensure correct column names (check for typos and case sensitivity)\n",
    "target_column = \"Likes\"\n",
    "heatmap_columns = [\"Profile Views\", \"Video Views\"]\n",
    "\n",
    "# Check for missing columns (uncomment if needed)\n",
    "# print(df.columns.tolist())\n",
    "\n",
    "# Create the heatmap using a try-except block to handle potential missing columns\n",
    "try:\n",
    "  plt.figure(figsize=(10, 6))\n",
    "  sns.heatmap(df[heatmap_columns], annot=True, fmt=\".0f\", cmap=\"YlGnBu\")\n",
    "  plt.xlabel(heatmap_columns[0])\n",
    "  plt.ylabel(heatmap_columns[1])\n",
    "  plt.title(f\"Heatmap of {target_column} vs. {heatmap_columns[0]} & {heatmap_columns[1]}\")\n",
    "  plt.show()\n",
    "except KeyError:\n",
    "  print(\"Error: One or more heatmap columns are missing from the DataFrame.\")\n"
   ]
  },
  {
   "cell_type": "code",
   "execution_count": 29,
   "metadata": {},
   "outputs": [
    {
     "ename": "KeyError",
     "evalue": "\"None of [Index(['Profile Views', 'Video Views'], dtype='object')] are in the [columns]\"",
     "output_type": "error",
     "traceback": [
      "\u001b[1;31m---------------------------------------------------------------------------\u001b[0m",
      "\u001b[1;31mKeyError\u001b[0m                                  Traceback (most recent call last)",
      "Cell \u001b[1;32mIn[29], line 10\u001b[0m\n\u001b[0;32m      8\u001b[0m \u001b[38;5;66;03m# Create a heatmap using seaborn\u001b[39;00m\n\u001b[0;32m      9\u001b[0m plt\u001b[38;5;241m.\u001b[39mfigure(figsize\u001b[38;5;241m=\u001b[39m(\u001b[38;5;241m10\u001b[39m, \u001b[38;5;241m6\u001b[39m))\n\u001b[1;32m---> 10\u001b[0m sns\u001b[38;5;241m.\u001b[39mheatmap(\u001b[43mdf\u001b[49m\u001b[43m[\u001b[49m\u001b[43mheatmap_columns\u001b[49m\u001b[43m]\u001b[49m, annot\u001b[38;5;241m=\u001b[39m\u001b[38;5;28;01mTrue\u001b[39;00m, fmt\u001b[38;5;241m=\u001b[39m\u001b[38;5;124m\"\u001b[39m\u001b[38;5;124m.0f\u001b[39m\u001b[38;5;124m\"\u001b[39m, cmap\u001b[38;5;241m=\u001b[39m\u001b[38;5;124m\"\u001b[39m\u001b[38;5;124mYlGnBu\u001b[39m\u001b[38;5;124m\"\u001b[39m)  \u001b[38;5;66;03m# Customize the colormap if needed\u001b[39;00m\n\u001b[0;32m     12\u001b[0m \u001b[38;5;66;03m# Add labels and title\u001b[39;00m\n\u001b[0;32m     13\u001b[0m plt\u001b[38;5;241m.\u001b[39mxlabel(heatmap_columns[\u001b[38;5;241m0\u001b[39m])\n",
      "File \u001b[1;32mc:\\Users\\Galih Setiawan\\AppData\\Local\\Programs\\Python\\Python311\\Lib\\site-packages\\pandas\\core\\frame.py:4096\u001b[0m, in \u001b[0;36mDataFrame.__getitem__\u001b[1;34m(self, key)\u001b[0m\n\u001b[0;32m   4094\u001b[0m     \u001b[38;5;28;01mif\u001b[39;00m is_iterator(key):\n\u001b[0;32m   4095\u001b[0m         key \u001b[38;5;241m=\u001b[39m \u001b[38;5;28mlist\u001b[39m(key)\n\u001b[1;32m-> 4096\u001b[0m     indexer \u001b[38;5;241m=\u001b[39m \u001b[38;5;28;43mself\u001b[39;49m\u001b[38;5;241;43m.\u001b[39;49m\u001b[43mcolumns\u001b[49m\u001b[38;5;241;43m.\u001b[39;49m\u001b[43m_get_indexer_strict\u001b[49m\u001b[43m(\u001b[49m\u001b[43mkey\u001b[49m\u001b[43m,\u001b[49m\u001b[43m \u001b[49m\u001b[38;5;124;43m\"\u001b[39;49m\u001b[38;5;124;43mcolumns\u001b[39;49m\u001b[38;5;124;43m\"\u001b[39;49m\u001b[43m)\u001b[49m[\u001b[38;5;241m1\u001b[39m]\n\u001b[0;32m   4098\u001b[0m \u001b[38;5;66;03m# take() does not accept boolean indexers\u001b[39;00m\n\u001b[0;32m   4099\u001b[0m \u001b[38;5;28;01mif\u001b[39;00m \u001b[38;5;28mgetattr\u001b[39m(indexer, \u001b[38;5;124m\"\u001b[39m\u001b[38;5;124mdtype\u001b[39m\u001b[38;5;124m\"\u001b[39m, \u001b[38;5;28;01mNone\u001b[39;00m) \u001b[38;5;241m==\u001b[39m \u001b[38;5;28mbool\u001b[39m:\n",
      "File \u001b[1;32mc:\\Users\\Galih Setiawan\\AppData\\Local\\Programs\\Python\\Python311\\Lib\\site-packages\\pandas\\core\\indexes\\base.py:6200\u001b[0m, in \u001b[0;36mIndex._get_indexer_strict\u001b[1;34m(self, key, axis_name)\u001b[0m\n\u001b[0;32m   6197\u001b[0m \u001b[38;5;28;01melse\u001b[39;00m:\n\u001b[0;32m   6198\u001b[0m     keyarr, indexer, new_indexer \u001b[38;5;241m=\u001b[39m \u001b[38;5;28mself\u001b[39m\u001b[38;5;241m.\u001b[39m_reindex_non_unique(keyarr)\n\u001b[1;32m-> 6200\u001b[0m \u001b[38;5;28;43mself\u001b[39;49m\u001b[38;5;241;43m.\u001b[39;49m\u001b[43m_raise_if_missing\u001b[49m\u001b[43m(\u001b[49m\u001b[43mkeyarr\u001b[49m\u001b[43m,\u001b[49m\u001b[43m \u001b[49m\u001b[43mindexer\u001b[49m\u001b[43m,\u001b[49m\u001b[43m \u001b[49m\u001b[43maxis_name\u001b[49m\u001b[43m)\u001b[49m\n\u001b[0;32m   6202\u001b[0m keyarr \u001b[38;5;241m=\u001b[39m \u001b[38;5;28mself\u001b[39m\u001b[38;5;241m.\u001b[39mtake(indexer)\n\u001b[0;32m   6203\u001b[0m \u001b[38;5;28;01mif\u001b[39;00m \u001b[38;5;28misinstance\u001b[39m(key, Index):\n\u001b[0;32m   6204\u001b[0m     \u001b[38;5;66;03m# GH 42790 - Preserve name from an Index\u001b[39;00m\n",
      "File \u001b[1;32mc:\\Users\\Galih Setiawan\\AppData\\Local\\Programs\\Python\\Python311\\Lib\\site-packages\\pandas\\core\\indexes\\base.py:6249\u001b[0m, in \u001b[0;36mIndex._raise_if_missing\u001b[1;34m(self, key, indexer, axis_name)\u001b[0m\n\u001b[0;32m   6247\u001b[0m \u001b[38;5;28;01mif\u001b[39;00m nmissing:\n\u001b[0;32m   6248\u001b[0m     \u001b[38;5;28;01mif\u001b[39;00m nmissing \u001b[38;5;241m==\u001b[39m \u001b[38;5;28mlen\u001b[39m(indexer):\n\u001b[1;32m-> 6249\u001b[0m         \u001b[38;5;28;01mraise\u001b[39;00m \u001b[38;5;167;01mKeyError\u001b[39;00m(\u001b[38;5;124mf\u001b[39m\u001b[38;5;124m\"\u001b[39m\u001b[38;5;124mNone of [\u001b[39m\u001b[38;5;132;01m{\u001b[39;00mkey\u001b[38;5;132;01m}\u001b[39;00m\u001b[38;5;124m] are in the [\u001b[39m\u001b[38;5;132;01m{\u001b[39;00maxis_name\u001b[38;5;132;01m}\u001b[39;00m\u001b[38;5;124m]\u001b[39m\u001b[38;5;124m\"\u001b[39m)\n\u001b[0;32m   6251\u001b[0m     not_found \u001b[38;5;241m=\u001b[39m \u001b[38;5;28mlist\u001b[39m(ensure_index(key)[missing_mask\u001b[38;5;241m.\u001b[39mnonzero()[\u001b[38;5;241m0\u001b[39m]]\u001b[38;5;241m.\u001b[39munique())\n\u001b[0;32m   6252\u001b[0m     \u001b[38;5;28;01mraise\u001b[39;00m \u001b[38;5;167;01mKeyError\u001b[39;00m(\u001b[38;5;124mf\u001b[39m\u001b[38;5;124m\"\u001b[39m\u001b[38;5;132;01m{\u001b[39;00mnot_found\u001b[38;5;132;01m}\u001b[39;00m\u001b[38;5;124m not in index\u001b[39m\u001b[38;5;124m\"\u001b[39m)\n",
      "\u001b[1;31mKeyError\u001b[0m: \"None of [Index(['Profile Views', 'Video Views'], dtype='object')] are in the [columns]\""
     ]
    },
    {
     "data": {
      "text/plain": [
       "<Figure size 1000x600 with 0 Axes>"
      ]
     },
     "metadata": {},
     "output_type": "display_data"
    }
   ],
   "source": [
    "import matplotlib.pyplot as plt\n",
    "import seaborn as sns\n",
    "\n",
    "# Select columns for the heatmap (choose based on your interest)\n",
    "target_column = \"Likes\"\n",
    "heatmap_columns = [\"Profile Views\", \"Video Views\"]  # You can add/remove columns here\n",
    "\n",
    "# Create a heatmap using seaborn\n",
    "plt.figure(figsize=(10, 6))\n",
    "sns.heatmap(df[heatmap_columns], annot=True, fmt=\".0f\", cmap=\"YlGnBu\")  # Customize the colormap if needed\n",
    "\n",
    "# Add labels and title\n",
    "plt.xlabel(heatmap_columns[0])\n",
    "plt.ylabel(heatmap_columns[1])\n",
    "plt.title(f\"Heatmap of {target_column} vs. {heatmap_columns[0]} & {heatmap_columns[1]}\")\n",
    "\n",
    "# Display the heatmap\n",
    "plt.show()\n"
   ]
  }
 ],
 "metadata": {
  "kernelspec": {
   "display_name": "Python 3",
   "language": "python",
   "name": "python3"
  },
  "language_info": {
   "codemirror_mode": {
    "name": "ipython",
    "version": 3
   },
   "file_extension": ".py",
   "mimetype": "text/x-python",
   "name": "python",
   "nbconvert_exporter": "python",
   "pygments_lexer": "ipython3",
   "version": "3.11.1"
  }
 },
 "nbformat": 4,
 "nbformat_minor": 2
}
