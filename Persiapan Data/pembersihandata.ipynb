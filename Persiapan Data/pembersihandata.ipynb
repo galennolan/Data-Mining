{
 "cells": [
  {
   "cell_type": "markdown",
   "metadata": {},
   "source": [
    "Mengisi Nilai Hilang :"
   ]
  },
  {
   "cell_type": "code",
   "execution_count": 2,
   "metadata": {},
   "outputs": [
    {
     "name": "stdout",
     "output_type": "stream",
     "text": [
      "Sebelum mengisi nilai hilang:\n",
      "     A    B\n",
      "0  1.0  2.0\n",
      "1  2.0  3.0\n",
      "2  NaN  4.0\n",
      "3  4.0  5.0\n",
      "4  5.0  NaN\n",
      "\n",
      "Setelah mengisi nilai hilang dengan mean:\n",
      "     A    B\n",
      "0  1.0  2.0\n",
      "1  2.0  3.0\n",
      "2  3.0  4.0\n",
      "3  4.0  5.0\n",
      "4  5.0  3.5\n",
      "\n",
      "Setelah mengisi nilai hilang dengan median:\n",
      "     A    B\n",
      "0  1.0  2.0\n",
      "1  2.0  3.0\n",
      "2  3.0  4.0\n",
      "3  4.0  5.0\n",
      "4  5.0  3.5\n"
     ]
    }
   ],
   "source": [
    "import pandas as pd\n",
    "\n",
    "# Membuat contoh DataFrame\n",
    "data = {'A': [1, 2, None, 4, 5],\n",
    "        'B': [2, 3, 4, 5, None]}\n",
    "df = pd.DataFrame(data)\n",
    "\n",
    "print(\"Sebelum mengisi nilai hilang:\")\n",
    "print(df)\n",
    "\n",
    "# Mengisi nilai hilang dengan mean\n",
    "df.loc[:, 'A'] = df['A'].fillna(df['A'].mean())\n",
    "df.loc[:, 'B'] = df['B'].fillna(df['B'].mean())\n",
    "\n",
    "print(\"\\nSetelah mengisi nilai hilang dengan mean:\")\n",
    "print(df)\n",
    "\n",
    "# Mengisi nilai hilang dengan median\n",
    "df = pd.DataFrame(data)\n",
    "df.loc[:, 'A'] = df['A'].fillna(df['A'].median())\n",
    "df.loc[:, 'B'] = df['B'].fillna(df['B'].median())\n",
    "\n",
    "print(\"\\nSetelah mengisi nilai hilang dengan median:\")\n",
    "print(df)"
   ]
  },
  {
   "cell_type": "markdown",
   "metadata": {},
   "source": [
    "Menghapus Duplikat:"
   ]
  },
  {
   "cell_type": "code",
   "execution_count": 4,
   "metadata": {},
   "outputs": [
    {
     "name": "stdout",
     "output_type": "stream",
     "text": [
      "Sebelum menghapus duplikat:\n",
      "   A  B\n",
      "0  1  2\n",
      "1  2  3\n",
      "2  2  3\n",
      "3  3  5\n",
      "4  4  6\n",
      "5  4  6\n",
      "6  5  7\n",
      "\n",
      "Setelah menghapus duplikat:\n",
      "   A  B\n",
      "0  1  2\n",
      "1  2  3\n",
      "3  3  5\n",
      "4  4  6\n",
      "6  5  7\n"
     ]
    }
   ],
   "source": [
    "import pandas as pd\n",
    "\n",
    "# Membuat contoh DataFrame\n",
    "data = {'A': [1, 2, 2, 3, 4, 4, 5],\n",
    "        'B': [2, 3, 3, 5, 6, 6, 7]}\n",
    "df = pd.DataFrame(data)\n",
    "\n",
    "print(\"Sebelum menghapus duplikat:\")\n",
    "print(df)\n",
    "\n",
    "# Menghapus duplikat\n",
    "df.drop_duplicates(inplace=True)\n",
    "\n",
    "print(\"\\nSetelah menghapus duplikat:\")\n",
    "print(df)"
   ]
  },
  {
   "cell_type": "markdown",
   "metadata": {},
   "source": [
    "Mengatasi Nilai Ekstrim"
   ]
  },
  {
   "cell_type": "code",
   "execution_count": 7,
   "metadata": {},
   "outputs": [
    {
     "name": "stdout",
     "output_type": "stream",
     "text": [
      "DataFrame awal:\n",
      "      A\n",
      "0     1\n",
      "1     2\n",
      "2     3\n",
      "3     4\n",
      "4     5\n",
      "5     6\n",
      "6     7\n",
      "7     8\n",
      "8     9\n",
      "9    10\n",
      "10  100\n",
      "\n",
      "Outlier:\n",
      "      A\n",
      "10  100\n"
     ]
    }
   ],
   "source": [
    "import pandas as pd\n",
    "\n",
    "# Membuat contoh DataFrame\n",
    "data = {'A': [1, 2, 3, 4, 5, 6, 7, 8, 9, 10, 100]}\n",
    "df = pd.DataFrame(data)\n",
    "\n",
    "print(\"DataFrame awal:\")\n",
    "print(df)\n",
    "\n",
    "# Menghitung Q1 dan Q3\n",
    "Q1 = df['A'].quantile(0.25)\n",
    "Q3 = df['A'].quantile(0.75)\n",
    "\n",
    "# Menghitung IQR\n",
    "IQR = Q3 - Q1\n",
    "\n",
    "# Mengidentifikasi outlier\n",
    "outliers = df[(df['A'] < (Q1 - 1.5 * IQR)) | (df['A'] > (Q3 + 1.5 * IQR))]\n",
    "\n",
    "print(\"\\nOutlier:\")\n",
    "print(outliers)"
   ]
  },
  {
   "cell_type": "code",
   "execution_count": 8,
   "metadata": {},
   "outputs": [
    {
     "name": "stdout",
     "output_type": "stream",
     "text": [
      "   x;y\n",
      "0  1;2\n",
      "1  2;4\n",
      "2  3;5\n",
      "3  4;4\n",
      "4  5;5\n"
     ]
    }
   ],
   "source": [
    "import pandas as pd\n",
    "\n",
    "# Mengimpor dataset dari file CSV di GitHub\n",
    "df = pd.read_csv('https://raw.githubusercontent.com/galennolan/Data-Mining/main/csv/linear_regression_data.csv')\n",
    "\n",
    "# Menampilkan 5 baris pertama data\n",
    "print(df.head())\n"
   ]
  }
 ],
 "metadata": {
  "kernelspec": {
   "display_name": "Python 3",
   "language": "python",
   "name": "python3"
  },
  "language_info": {
   "codemirror_mode": {
    "name": "ipython",
    "version": 3
   },
   "file_extension": ".py",
   "mimetype": "text/x-python",
   "name": "python",
   "nbconvert_exporter": "python",
   "pygments_lexer": "ipython3",
   "version": "3.11.1"
  }
 },
 "nbformat": 4,
 "nbformat_minor": 2
}
