{
 "cells": [
  {
   "cell_type": "code",
   "execution_count": 2,
   "metadata": {},
   "outputs": [
    {
     "name": "stdout",
     "output_type": "stream",
     "text": [
      "Collecting minisomNote: you may need to restart the kernel to use updated packages.\n"
     ]
    },
    {
     "name": "stderr",
     "output_type": "stream",
     "text": [
      "\n",
      "[notice] A new release of pip is available: 24.1.1 -> 24.2\n",
      "[notice] To update, run: python.exe -m pip install --upgrade pip\n"
     ]
    },
    {
     "name": "stdout",
     "output_type": "stream",
     "text": [
      "\n",
      "  Downloading MiniSom-2.3.3.tar.gz (11 kB)\n",
      "  Preparing metadata (setup.py): started\n",
      "  Preparing metadata (setup.py): finished with status 'done'\n",
      "Building wheels for collected packages: minisom\n",
      "  Building wheel for minisom (setup.py): started\n",
      "  Building wheel for minisom (setup.py): finished with status 'done'\n",
      "  Created wheel for minisom: filename=MiniSom-2.3.3-py3-none-any.whl size=11719 sha256=df7c227f5f185611c207b9d05d94e59640dafa79d65d4c8d528fa0221daba737\n",
      "  Stored in directory: c:\\users\\galih setiawan\\appdata\\local\\pip\\cache\\wheels\\c8\\29\\ba\\ee521d9a6af783a1e1efb1831fe4afdf526613849b3f58175b\n",
      "Successfully built minisom\n",
      "Installing collected packages: minisom\n",
      "Successfully installed minisom-2.3.3\n"
     ]
    }
   ],
   "source": [
    "pip install minisom"
   ]
  },
  {
   "cell_type": "code",
   "execution_count": 4,
   "metadata": {},
   "outputs": [
    {
     "data": {
      "image/png": "[encoded data removed]",
      "text/plain": [
       "<Figure size 640x480 with 2 Axes>"
      ]
     },
     "metadata": {},
     "output_type": "display_data"
    }
   ],
   "source": [
    "# Install library yang dibutuhkan\n",
    "# pip install minisom\n",
    "\n",
    "from minisom import MiniSom\n",
    "import numpy as np\n",
    "from pylab import plot, show, pcolor, colorbar, bone\n",
    "\n",
    "# Contoh data pelanggan dengan 4 fitur (100 pelanggan)\n",
    "# Kolom: [transaksi/bulan, pengeluaran total, usia, produk per transaksi]\n",
    "data_pelanggan = np.array([\n",
    "    [10, 500, 25, 2],\n",
    "    [15, 1500, 35, 3],\n",
    "    [8, 200, 50, 1],\n",
    "    [20, 1000, 28, 5],\n",
    "    [12, 800, 40, 4],\n",
    "    # Data pelanggan lainnya\n",
    "    [9, 700, 32, 3],\n",
    "    [5, 100, 60, 1],\n",
    "    [25, 2000, 45, 6],\n",
    "    [30, 3000, 27, 8],\n",
    "    [7, 250, 22, 2],\n",
    "    # Data lainnya sampai 100 pelanggan...\n",
    "])\n",
    "\n",
    "# Inisialisasi SOM dengan grid 10x10\n",
    "som = MiniSom(10, 10, 4, sigma=1.0, learning_rate=0.5)\n",
    "som.train_random(data_pelanggan, 100)\n",
    "\n",
    "# Visualisasi hasil\n",
    "bone()  # Mengatur palet warna grayscale\n",
    "pcolor(som.distance_map().T)  # Menggambar peta jarak SOM\n",
    "colorbar()  # Menambahkan skala warna\n",
    "show()\n"
   ]
  },
  {
   "cell_type": "code",
   "execution_count": 5,
   "metadata": {},
   "outputs": [
    {
     "data": {
      "image/png": "[encoded data removed]",
      "text/plain": [
       "<Figure size 640x480 with 2 Axes>"
      ]
     },
     "metadata": {},
     "output_type": "display_data"
    },
    {
     "name": "stdout",
     "output_type": "stream",
     "text": [
      "Neuron (6, 2) memiliki pelanggan dengan indeks: [0]\n",
      "Neuron (6, 1) memiliki pelanggan dengan indeks: [1]\n",
      "Neuron (3, 2) memiliki pelanggan dengan indeks: [2]\n",
      "Neuron (4, 0) memiliki pelanggan dengan indeks: [3]\n",
      "Neuron (4, 1) memiliki pelanggan dengan indeks: [4, 5]\n",
      "Neuron (6, 4) memiliki pelanggan dengan indeks: [6]\n",
      "Neuron (5, 0) memiliki pelanggan dengan indeks: [7]\n",
      "Neuron (6, 0) memiliki pelanggan dengan indeks: [8]\n",
      "Neuron (6, 3) memiliki pelanggan dengan indeks: [9]\n"
     ]
    }
   ],
   "source": [
    "# Install library yang dibutuhkan\n",
    "# pip install minisom\n",
    "\n",
    "from minisom import MiniSom\n",
    "import numpy as np\n",
    "from sklearn import datasets\n",
    "from pylab import plot, show, pcolor, colorbar, bone\n",
    "\n",
    "# Data pelanggan: transaksi/bulan, pengeluaran total, usia, produk per transaksi\n",
    "data_pelanggan = np.array([\n",
    "    [10, 500, 25, 2], [15, 1500, 35, 3], [8, 200, 50, 1], [20, 1000, 28, 5],\n",
    "    [12, 800, 40, 4], [9, 700, 32, 3], [5, 100, 60, 1], [25, 2000, 45, 6],\n",
    "    [30, 3000, 27, 8], [7, 250, 22, 2] # Tambahkan data sesuai keperluan\n",
    "])\n",
    "\n",
    "# Inisialisasi SOM dengan grid 7x7\n",
    "som = MiniSom(7, 7, 4, sigma=1.0, learning_rate=0.5)\n",
    "som.train_random(data_pelanggan, 100)\n",
    "\n",
    "# Visualisasi hasil\n",
    "bone()  # Mengatur palet warna grayscale\n",
    "pcolor(som.distance_map().T)  # Menggambar peta jarak SOM\n",
    "colorbar()  # Menambahkan skala warna\n",
    "show()\n",
    "\n",
    "# Menempatkan setiap pelanggan pada neuron di SOM\n",
    "pelanggan_map = {}\n",
    "\n",
    "# Proses untuk mencocokkan pelanggan ke neuron yang diaktifkan oleh mereka\n",
    "for i, pelanggan in enumerate(data_pelanggan):\n",
    "    posisi = som.winner(pelanggan)  # Menemukan neuron pemenang untuk pelanggan ini\n",
    "    if posisi not in pelanggan_map:\n",
    "        pelanggan_map[posisi] = []\n",
    "    pelanggan_map[posisi].append(i)  # Menyimpan indeks pelanggan yang sesuai dengan neuron tersebut\n",
    "\n",
    "# Menampilkan hasil pengelompokan pelanggan\n",
    "for posisi, pelanggan_idx in pelanggan_map.items():\n",
    "    print(f\"Neuron {posisi} memiliki pelanggan dengan indeks: {pelanggan_idx}\")\n"
   ]
  },
  {
   "cell_type": "code",
   "execution_count": 6,
   "metadata": {},
   "outputs": [
    {
     "name": "stdout",
     "output_type": "stream",
     "text": [
      "Pelanggan 1 dikelompokkan ke neuron: (1, 1)\n",
      "Pelanggan 2 dikelompokkan ke neuron: (1, 0)\n",
      "Pelanggan 3 dikelompokkan ke neuron: (1, 1)\n",
      "Pelanggan 4 dikelompokkan ke neuron: (0, 1)\n",
      "Pelanggan 5 dikelompokkan ke neuron: (0, 0)\n",
      "Pelanggan 6 dikelompokkan ke neuron: (1, 1)\n",
      "Pelanggan 7 dikelompokkan ke neuron: (0, 0)\n",
      "Pelanggan 8 dikelompokkan ke neuron: (0, 1)\n",
      "Pelanggan 9 dikelompokkan ke neuron: (1, 0)\n",
      "Pelanggan 10 dikelompokkan ke neuron: (1, 1)\n"
     ]
    }
   ],
   "source": [
    "from minisom import MiniSom\n",
    "import numpy as np\n",
    "\n",
    "# Data pelanggan sederhana\n",
    "data_pelanggan = np.array([\n",
    "    [5, 500, 25],  # Pelanggan 1\n",
    "    [10, 1000, 35],  # Pelanggan 2\n",
    "    [2, 200, 50],  # Pelanggan 3\n",
    "    [7, 800, 28],  # Pelanggan 4\n",
    "    [12, 1200, 40],  # Pelanggan 5\n",
    "    [3, 300, 60],  # Pelanggan 6\n",
    "    [15, 1500, 45],  # Pelanggan 7\n",
    "    [6, 600, 32],  # Pelanggan 8\n",
    "    [9, 900, 27],  # Pelanggan 9\n",
    "    [4, 400, 22]  # Pelanggan 10\n",
    "])\n",
    "\n",
    "# Membuat SOM dengan grid 2x2 untuk sederhana (bisa diubah sesuai kebutuhan)\n",
    "som = MiniSom(2, 2, 3, sigma=1.0, learning_rate=0.5)\n",
    "som.train_random(data_pelanggan, 100)  # Melatih SOM\n",
    "\n",
    "# Temukan kelompok (neuron) untuk setiap pelanggan\n",
    "kelompok_pelanggan = []\n",
    "for pelanggan in data_pelanggan:\n",
    "    kelompok_pelanggan.append(som.winner(pelanggan))  # Temukan neuron yang mewakili pelanggan\n",
    "\n",
    "# Tampilkan kelompok pelanggan\n",
    "for idx, kelompok in enumerate(kelompok_pelanggan):\n",
    "    print(f\"Pelanggan {idx + 1} dikelompokkan ke neuron: {kelompok}\")\n"
   ]
  },
  {
   "cell_type": "code",
   "execution_count": null,
   "metadata": {},
   "outputs": [],
   "source": []
  }
 ],
 "metadata": {
  "kernelspec": {
   "display_name": "Python 3",
   "language": "python",
   "name": "python3"
  },
  "language_info": {
   "codemirror_mode": {
    "name": "ipython",
    "version": 3
   },
   "file_extension": ".py",
   "mimetype": "text/x-python",
   "name": "python",
   "nbconvert_exporter": "python",
   "pygments_lexer": "ipython3",
   "version": "3.11.1"
  }
 },
 "nbformat": 4,
 "nbformat_minor": 2
}
